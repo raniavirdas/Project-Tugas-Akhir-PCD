{
 "cells": [
  {
   "cell_type": "markdown",
   "id": "3f6d5c37",
   "metadata": {},
   "source": [
    "#### Rania Virda Sukmaningsih\n",
    "#### 1306619067 \n",
    "#### Fisika B 2019 \n"
   ]
  },
  {
   "cell_type": "markdown",
   "id": "9c411e23",
   "metadata": {},
   "source": [
    "### Project Tugas Akhir Pengolahan Citra Digital \n",
    "### Judul : \n",
    "\" PEMANFAATAN LIBRARY OPENCV PADA PROGRAM SIMULASI DETEKSI WARNA, KODEHEX, DAN RGB MENGGUNAKAN MEDIA KAMERA PADA WEBCAM LAPTOP SECARA REAL-TIME\""
   ]
  },
  {
   "cell_type": "code",
   "execution_count": 2,
   "id": "0fb297cb",
   "metadata": {},
   "outputs": [],
   "source": [
    "#Mengimport library yang diperlukan\n",
    "import numpy as np\n",
    "import pandas as pd\n",
    "import cv2\n",
    "import imutils\n",
    "\n",
    "#menangkap video\n",
    "camera = cv2.VideoCapture(0)\n",
    "\n",
    "#membaca file csv yang berisi dataset nama-nama warna lengkap dengan kodehex dan nilai RGB\n",
    "index = ['color', 'color_name', 'hex', 'R', 'G', 'B']\n",
    "df = pd.read_csv('colors.csv', names = index, header = None)\n",
    "\n",
    "r = g = b = xpos = ypos = 0\n",
    "\n",
    "#membuat fungsi pengenalan warna\n",
    "def getColorName(R,G,B):\n",
    "    minimum = 10000\n",
    "    for i in range(len(df)):\n",
    "        d = abs(R - int(df.loc[i,\"R\"])) + abs(G - int(df.loc[i,\"G\"])) + abs(B - int(df.loc[i,\"B\"]))\n",
    "        if (d <= minimum):\n",
    "            minimum = d\n",
    "            cname = df.loc[i, 'color_name'] + '   Hex=' + df.loc[i, 'hex']\n",
    "    return cname\n",
    "\n",
    "#membuat fungsi identifikasi warna \n",
    "def identify_color(event, x, y, flags, param):\n",
    "    global b, g, r, xpos, ypos, clicked\n",
    "    xpos = x\n",
    "    ypos = y\n",
    "    b, g, r = frame[y,x]\n",
    "    b = int(b)\n",
    "    g = int(g)\n",
    "    r = int(r)\n",
    "\n",
    "#membuka file gambar real-time\n",
    "cv2.namedWindow('Program deteksi')\n",
    "#memilih titk sudut\n",
    "cv2.setMouseCallback('Program deteksi', identify_color)\n",
    "\n",
    "#pengulangan dalam menjalankan program\n",
    "while True:\n",
    "    (grabbed, frame) = camera.read()#membaca kamera\n",
    "    frame = imutils.resize(frame, width=900)#mengatur frame jendela\n",
    "    kernal = np.ones((5, 5), \"uint8\")#mengatur kernel\n",
    "    cv2.rectangle(frame, (20,20), (800, 60),(b,g,r), -1)#membuat jendela frame berbentuk persegi panjang  \n",
    "    text = getColorName(b,g,r) + '   R=' + str(r) + ' G=' + str(g) + ' B=' + str(b) #menginisiasi text dari fungsi pengenalan warna\n",
    "    # menampilkan text ke dalam frame real-time\n",
    "    cv2.putText(frame,text, (50,50),2, 0.8, (255,255,255),2,cv2.LINE_AA) \n",
    "    if(r+g+b >= 600):\n",
    "        cv2.putText(frame,text,(50,50), 2, 0.8, (0,0,0),2,cv2.LINE_AA)     \n",
    "    cv2.imshow('Program',frame)\n",
    "    #mengatur waitkey untuk melakukan perintah\n",
    "    if cv2.waitKey(15) & 0xFF == 27:\n",
    "        break\n",
    "    \n",
    "camera.release()#merilis kamera\n",
    "cv2.destroyAllWindows()#menutup jendela"
   ]
  }
 ],
 "metadata": {
  "kernelspec": {
   "display_name": "Python 3",
   "language": "python",
   "name": "python3"
  },
  "language_info": {
   "codemirror_mode": {
    "name": "ipython",
    "version": 3
   },
   "file_extension": ".py",
   "mimetype": "text/x-python",
   "name": "python",
   "nbconvert_exporter": "python",
   "pygments_lexer": "ipython3",
   "version": "3.8.8"
  }
 },
 "nbformat": 4,
 "nbformat_minor": 5
}
